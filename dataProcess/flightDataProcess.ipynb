{
 "cells": [
  {
   "cell_type": "markdown",
   "metadata": {},
   "source": [
    "# 缩减单元格"
   ]
  },
  {
   "cell_type": "code",
   "execution_count": 1,
   "metadata": {},
   "outputs": [],
   "source": [
    "import pandas as pd"
   ]
  },
  {
   "cell_type": "code",
   "execution_count": null,
   "metadata": {},
   "outputs": [],
   "source": [
    "# 读取dataset/flight.csv文件\n",
    "origin_dataset = pd.read_csv('dataProcess/dataset/flights.csv')\n",
    "print('成功读取flights.csv文件')\n",
    "# 删除ORIGIN_AIRPORT行中没有dataset/airports.csv中的IATA_CODE的行\n",
    "airport = pd.read_csv('dataProcess/dataset/airports.csv')\n",
    "print('成功读取airports.csv文件')\n",
    "select_airport = airport['IATA_CODE'].values\n",
    "\n",
    "# 将origin_dataset中的ORIGIN_AIRPORT列中的值与select_airport中的值进行比较，如果不在select_airport中，则删除该行\n",
    "origin_dataset = origin_dataset[origin_dataset['ORIGIN_AIRPORT'].isin(select_airport)]\n",
    "print('成功删除ORIGIN_AIRPORT不在airports.csv中的行')\n",
    "# 保存缩减后的数据集\n",
    "origin_dataset.to_csv('dataProcess/dataset/flight_reduced.csv', index=False)\n",
    "\n",
    "# 相同的ORIGIN_AIRPORT 仅保留相同YEAR,MONTH,DAY,DAY_OF_WEEK的一行\n",
    "origin_dataset = origin_dataset.drop_duplicates(subset=['ORIGIN_AIRPORT', 'YEAR', 'MONTH', 'DAY', 'DAY_OF_WEEK'])\n",
    "print('成功删除相同ORIGIN_AIRPORT的行')\n",
    "# 保存缩减后的数据集\n",
    "origin_dataset.to_csv('dataProcess/dataset/flight_reduced_unique.csv', index=False)"
   ]
  },
  {
   "cell_type": "code",
   "execution_count": 5,
   "metadata": {},
   "outputs": [
    {
     "name": "stdout",
     "output_type": "stream",
     "text": [
      "成功读取airports.csv文件\n",
      "成功读取flight_reduced_unique.csv文件\n",
      "成功删除不需要的列\n"
     ]
    }
   ],
   "source": [
    "airport = pd.read_csv('./dataset/airports.csv')\n",
    "print('成功读取airports.csv文件')\n",
    "select_airport = airport['IATA_CODE'].values\n",
    "\n",
    "# 读取dataset/flight_reduced_unique.csv文件\n",
    "# 删除不需要的列\n",
    "origin_dataset = pd.read_csv('./dataset/flight_reduced_unique.csv')\n",
    "print('成功读取flight_reduced_unique.csv文件')\n",
    "origin_dataset = origin_dataset.drop(['DAY_OF_WEEK', 'AIRLINE', 'FLIGHT_NUMBER', 'TAIL_NUMBER', \n",
    "                                    'SCHEDULED_DEPARTURE', 'DEPARTURE_TIME', 'TAXI_OUT', \n",
    "                                    'WHEELS_OFF', 'SCHEDULED_TIME', 'ELAPSED_TIME', \n",
    "                                    'AIR_TIME', 'WHEELS_ON', 'TAXI_IN', 'SCHEDULED_ARRIVAL', \n",
    "                                    'ARRIVAL_TIME', 'DIVERTED', 'CANCELLED', 'CANCELLATION_REASON', \n",
    "                                    'AIR_SYSTEM_DELAY', 'SECURITY_DELAY', 'AIRLINE_DELAY', \n",
    "                                    'LATE_AIRCRAFT_DELAY', 'WEATHER_DELAY'], axis=1)\n",
    "print('成功删除不需要的列')\n",
    "origin_dataset = origin_dataset[origin_dataset['DESTINATION_AIRPORT'].isin(select_airport)]\n",
    "# 保存缩减后的数据集\n",
    "origin_dataset.to_csv('./dataset/flight_fix.csv', index=False)"
   ]
  },
  {
   "cell_type": "code",
   "execution_count": null,
   "metadata": {},
   "outputs": [],
   "source": []
  }
 ],
 "metadata": {
  "kernelspec": {
   "display_name": "Python 3.9.13 64-bit",
   "language": "python",
   "name": "python3"
  },
  "language_info": {
   "codemirror_mode": {
    "name": "ipython",
    "version": 3
   },
   "file_extension": ".py",
   "mimetype": "text/x-python",
   "name": "python",
   "nbconvert_exporter": "python",
   "pygments_lexer": "ipython3",
   "version": "3.9.13"
  },
  "orig_nbformat": 4,
  "vscode": {
   "interpreter": {
    "hash": "6efa788cb94cb17b6d18a0713a162526dde847b9fce190a5e1ec27ce6e1c4702"
   }
  }
 },
 "nbformat": 4,
 "nbformat_minor": 2
}
